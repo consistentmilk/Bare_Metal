{
 "cells": [
  {
   "cell_type": "code",
   "execution_count": 9,
   "metadata": {},
   "outputs": [
    {
     "name": "stdout",
     "output_type": "stream",
     "text": [
      "['11101011', '10001100', '00000100']\n"
     ]
    }
   ],
   "source": [
    "v = [235, 140, 4]\n",
    "v = [f\"{x:08b}\" for x in v]\n",
    "\n",
    "print(v)"
   ]
  },
  {
   "cell_type": "code",
   "execution_count": 10,
   "metadata": {},
   "outputs": [
    {
     "name": "stdout",
     "output_type": "stream",
     "text": [
      "00000010\n"
     ]
    }
   ],
   "source": [
    "print(f\"{1 << 1:08b}\")"
   ]
  },
  {
   "cell_type": "code",
   "execution_count": 8,
   "metadata": {},
   "outputs": [],
   "source": [
    "class Solution:\n",
    "    def isMatch(self, text: str, pattern: str) -> list[list[bool]]:\n",
    "        dp: list[list[bool]] = [\n",
    "            [False] * (len(pattern) + 1) for _ in range(len(text) + 1)\n",
    "        ]\n",
    "\n",
    "        dp[-1][-1] = True\n",
    "        for i in range(len(text), -1, -1):\n",
    "            for j in range(len(pattern) - 1, -1, -1):\n",
    "                first_match = i < len(text) and pattern[j] in {text[i], \".\"}\n",
    "                if j + 1 < len(pattern) and pattern[j + 1] == \"*\":\n",
    "                    dp[i][j] = dp[i][j + 2] or first_match and dp[i + 1][j]\n",
    "                else:\n",
    "                    dp[i][j] = first_match and dp[i + 1][j + 1]\n",
    "                \n",
    "                if i < len(text) and j < len(pattern):\n",
    "                    print(f\"({i}, {j}) -> {dp[i][j]} | Text: {text[i:]} | Pattern: {pattern[j:]}\")\n",
    "                else:\n",
    "                    print(f\"({i}, {j}) -> {dp[i][j]}\")\n",
    "        return dp"
   ]
  },
  {
   "cell_type": "code",
   "execution_count": 13,
   "metadata": {},
   "outputs": [
    {
     "name": "stdout",
     "output_type": "stream",
     "text": [
      "(3, 4) -> False\n",
      "(3, 3) -> False\n",
      "(3, 2) -> False\n",
      "(3, 1) -> False\n",
      "(3, 0) -> False\n",
      "(2, 4) -> True | Text: b | Pattern: b\n",
      "(2, 3) -> False | Text: b | Pattern: *b\n",
      "(2, 2) -> True | Text: b | Pattern: a*b\n",
      "(2, 1) -> False | Text: b | Pattern: *a*b\n",
      "(2, 0) -> True | Text: b | Pattern: c*a*b\n",
      "(1, 4) -> False | Text: ab | Pattern: b\n",
      "(1, 3) -> False | Text: ab | Pattern: *b\n",
      "(1, 2) -> True | Text: ab | Pattern: a*b\n",
      "(1, 1) -> False | Text: ab | Pattern: *a*b\n",
      "(1, 0) -> True | Text: ab | Pattern: c*a*b\n",
      "(0, 4) -> False | Text: aab | Pattern: b\n",
      "(0, 3) -> False | Text: aab | Pattern: *b\n",
      "(0, 2) -> True | Text: aab | Pattern: a*b\n",
      "(0, 1) -> False | Text: aab | Pattern: *a*b\n",
      "(0, 0) -> True | Text: aab | Pattern: c*a*b\n",
      "[True, False, True, False, False, False]\n",
      "[True, False, True, False, False, False]\n",
      "[True, False, True, False, True, False]\n",
      "[False, False, False, False, False, True]\n"
     ]
    }
   ],
   "source": [
    "text = \"aab\";\n",
    "pattern = \"c*a*b\";\n",
    "\n",
    "res = Solution().isMatch(text, pattern)\n",
    "\n",
    "for row in res:\n",
    "    print(row)"
   ]
  },
  {
   "cell_type": "code",
   "execution_count": 21,
   "metadata": {},
   "outputs": [],
   "source": [
    "class Solution(object):\n",
    "    def isMatch(self, text: str, pattern: str) -> bool:\n",
    "        memo = {}\n",
    "\n",
    "        def dp(i: int, j: int) -> bool:\n",
    "            if (i, j) not in memo:\n",
    "                if j == len(pattern):\n",
    "                    ans = i == len(text)\n",
    "                else:\n",
    "                    first_match = i < len(text) and pattern[j] in {text[i], \".\"}\n",
    "                    if j + 1 < len(pattern) and pattern[j + 1] == \"*\":\n",
    "                        ans = dp(i, j + 2) or first_match and dp(i + 1, j)\n",
    "                    else:\n",
    "                        ans = first_match and dp(i + 1, j + 1)\n",
    "\n",
    "                memo[i, j] = ans\n",
    "            return memo[i, j]\n",
    "\n",
    "        dp(0, 0)\n",
    "\n",
    "        return memo"
   ]
  },
  {
   "cell_type": "code",
   "execution_count": 23,
   "metadata": {},
   "outputs": [
    {
     "data": {
      "text/plain": [
       "{(0, 2): False,\n",
       " (1, 2): False,\n",
       " (2, 2): True,\n",
       " (2, 0): True,\n",
       " (1, 0): True,\n",
       " (0, 0): True}"
      ]
     },
     "execution_count": 23,
     "metadata": {},
     "output_type": "execute_result"
    }
   ],
   "source": [
    "Solution().isMatch(text, pattern)"
   ]
  },
  {
   "cell_type": "code",
   "execution_count": null,
   "metadata": {},
   "outputs": [],
   "source": []
  }
 ],
 "metadata": {
  "kernelspec": {
   "display_name": "pylatest",
   "language": "python",
   "name": "python3"
  },
  "language_info": {
   "codemirror_mode": {
    "name": "ipython",
    "version": 3
   },
   "file_extension": ".py",
   "mimetype": "text/x-python",
   "name": "python",
   "nbconvert_exporter": "python",
   "pygments_lexer": "ipython3",
   "version": "3.13.0"
  }
 },
 "nbformat": 4,
 "nbformat_minor": 2
}
